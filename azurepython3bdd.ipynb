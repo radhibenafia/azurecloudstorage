{
  "cells": [
    {
      "cell_type": "code",
      "execution_count": null,
      "metadata": {
        "colab": {
          "base_uri": "https://localhost:8080/"
        },
        "id": "tjDrHFJ_2U7W",
        "outputId": "524a837b-bf95-4fc3-89d4-f8e490f2fe22"
      },
      "outputs": [
        {
          "name": "stdout",
          "output_type": "stream",
          "text": [
            "Collecting azure-cosmos\n",
            "  Downloading azure_cosmos-4.6.0-py3-none-any.whl (243 kB)\n",
            "\u001b[2K     \u001b[90m━━━━━━━━━━━━━━━━━━━━━━━━━━━━━━━━━━━━━━━━\u001b[0m \u001b[32m243.1/243.1 kB\u001b[0m \u001b[31m2.7 MB/s\u001b[0m eta \u001b[36m0:00:00\u001b[0m\n",
            "\u001b[?25hCollecting azure-core>=1.25.1 (from azure-cosmos)\n",
            "  Downloading azure_core-1.30.1-py3-none-any.whl (193 kB)\n",
            "\u001b[2K     \u001b[90m━━━━━━━━━━━━━━━━━━━━━━━━━━━━━━━━━━━━━━━━\u001b[0m \u001b[32m193.4/193.4 kB\u001b[0m \u001b[31m14.6 MB/s\u001b[0m eta \u001b[36m0:00:00\u001b[0m\n",
            "\u001b[?25hRequirement already satisfied: typing-extensions>=4.6.0 in /usr/local/lib/python3.10/dist-packages (from azure-cosmos) (4.10.0)\n",
            "Requirement already satisfied: requests>=2.21.0 in /usr/local/lib/python3.10/dist-packages (from azure-core>=1.25.1->azure-cosmos) (2.31.0)\n",
            "Requirement already satisfied: six>=1.11.0 in /usr/local/lib/python3.10/dist-packages (from azure-core>=1.25.1->azure-cosmos) (1.16.0)\n",
            "Requirement already satisfied: charset-normalizer<4,>=2 in /usr/local/lib/python3.10/dist-packages (from requests>=2.21.0->azure-core>=1.25.1->azure-cosmos) (3.3.2)\n",
            "Requirement already satisfied: idna<4,>=2.5 in /usr/local/lib/python3.10/dist-packages (from requests>=2.21.0->azure-core>=1.25.1->azure-cosmos) (3.6)\n",
            "Requirement already satisfied: urllib3<3,>=1.21.1 in /usr/local/lib/python3.10/dist-packages (from requests>=2.21.0->azure-core>=1.25.1->azure-cosmos) (2.0.7)\n",
            "Requirement already satisfied: certifi>=2017.4.17 in /usr/local/lib/python3.10/dist-packages (from requests>=2.21.0->azure-core>=1.25.1->azure-cosmos) (2024.2.2)\n",
            "Installing collected packages: azure-core, azure-cosmos\n",
            "Successfully installed azure-core-1.30.1 azure-cosmos-4.6.0\n"
          ]
        }
      ],
      "source": [
        "!pip install azure-cosmos\n"
      ]
    },
    {
      "cell_type": "code",
      "execution_count": null,
      "metadata": {
        "colab": {
          "base_uri": "https://localhost:8080/",
          "height": 426
        },
        "id": "yPH2i69k24hC",
        "outputId": "13c8da74-b217-49ed-9701-42d61790baa3"
      },
      "outputs": [
        {
          "name": "stdout",
          "output_type": "stream",
          "text": [
            "Collecting azure-data-tables\n",
            "  Downloading azure_data_tables-12.5.0-py3-none-any.whl (131 kB)\n",
            "\u001b[2K     \u001b[90m━━━━━━━━━━━━━━━━━━━━━━━━━━━━━━━━━━━━━━━━\u001b[0m \u001b[32m131.8/131.8 kB\u001b[0m \u001b[31m2.1 MB/s\u001b[0m eta \u001b[36m0:00:00\u001b[0m\n",
            "\u001b[?25hRequirement already satisfied: azure-core<2.0.0,>=1.29.4 in /usr/local/lib/python3.10/dist-packages (from azure-data-tables) (1.30.1)\n",
            "Requirement already satisfied: yarl<2.0,>=1.0 in /usr/local/lib/python3.10/dist-packages (from azure-data-tables) (1.9.4)\n",
            "Collecting isodate<1.0.0,>=0.6.1 (from azure-data-tables)\n",
            "  Downloading isodate-0.6.1-py2.py3-none-any.whl (41 kB)\n",
            "\u001b[2K     \u001b[90m━━━━━━━━━━━━━━━━━━━━━━━━━━━━━━━━━━━━━━━━\u001b[0m \u001b[32m41.7/41.7 kB\u001b[0m \u001b[31m4.1 MB/s\u001b[0m eta \u001b[36m0:00:00\u001b[0m\n",
            "\u001b[?25hRequirement already satisfied: typing-extensions>=4.3.0 in /usr/local/lib/python3.10/dist-packages (from azure-data-tables) (4.10.0)\n",
            "Requirement already satisfied: requests>=2.21.0 in /usr/local/lib/python3.10/dist-packages (from azure-core<2.0.0,>=1.29.4->azure-data-tables) (2.31.0)\n",
            "Requirement already satisfied: six>=1.11.0 in /usr/local/lib/python3.10/dist-packages (from azure-core<2.0.0,>=1.29.4->azure-data-tables) (1.16.0)\n",
            "Requirement already satisfied: idna>=2.0 in /usr/local/lib/python3.10/dist-packages (from yarl<2.0,>=1.0->azure-data-tables) (3.6)\n",
            "Requirement already satisfied: multidict>=4.0 in /usr/local/lib/python3.10/dist-packages (from yarl<2.0,>=1.0->azure-data-tables) (6.0.5)\n",
            "Requirement already satisfied: charset-normalizer<4,>=2 in /usr/local/lib/python3.10/dist-packages (from requests>=2.21.0->azure-core<2.0.0,>=1.29.4->azure-data-tables) (3.3.2)\n",
            "Requirement already satisfied: urllib3<3,>=1.21.1 in /usr/local/lib/python3.10/dist-packages (from requests>=2.21.0->azure-core<2.0.0,>=1.29.4->azure-data-tables) (2.0.7)\n",
            "Requirement already satisfied: certifi>=2017.4.17 in /usr/local/lib/python3.10/dist-packages (from requests>=2.21.0->azure-core<2.0.0,>=1.29.4->azure-data-tables) (2024.2.2)\n",
            "Installing collected packages: isodate, azure-data-tables\n",
            "Successfully installed azure-data-tables-12.5.0 isodate-0.6.1\n"
          ]
        },
        {
          "data": {
            "application/vnd.colab-display-data+json": {
              "id": "7cfe45cf6d954e808e4aac0169d87a41",
              "pip_warning": {
                "packages": [
                  "azure"
                ]
              }
            }
          },
          "metadata": {},
          "output_type": "display_data"
        }
      ],
      "source": [
        "!pip install azure-data-tables"
      ]
    },
    {
      "cell_type": "code",
      "execution_count": null,
      "metadata": {
        "colab": {
          "base_uri": "https://localhost:8080/"
        },
        "id": "CxNRnKsX2ZGt",
        "outputId": "a7bb021c-9301-44d9-f7b1-30651f46c0fd"
      },
      "outputs": [
        {
          "name": "stdout",
          "output_type": "stream",
          "text": [
            "{'PartitionKey': '0', 'RowKey': '0', 'nom': 'debbabi'}\n",
            "{'PartitionKey': '1', 'RowKey': '', 'nom': 'benafia'}\n",
            "{'PartitionKey': '2', 'RowKey': '0', 'nom': 'radhi'}\n",
            "{'PartitionKey': '3', 'RowKey': '0', 'nom': 'rayen'}\n",
            "{'PartitionKey': '4', 'RowKey': '0', 'nom': 'nnenen'}\n"
          ]
        }
      ],
      "source": [
        "from azure.data.tables import TableServiceClient\n",
        "from azure.core.credentials import AzureNamedKeyCredential\n",
        "\n",
        "# Replace the following values with your Azure credentials\n",
        "account_name = 'learningrba145'\n",
        "account_key = ''\n",
        "table_name = 'rba'\n",
        "\n",
        "# Construct the endpoint URL\n",
        "endpoint = f\"https://{account_name}.table.core.windows.net/\"\n",
        "\n",
        "# Establish a connection with the Azure Table service\n",
        "credential = AzureNamedKeyCredential(account_name, account_key)\n",
        "table_service_client = TableServiceClient(endpoint=endpoint, credential=credential)\n",
        "\n",
        "# Get a reference to your table\n",
        "table_client = table_service_client.get_table_client(table_name)\n",
        "\n",
        "# Query entities from the table\n",
        "entities = table_client.list_entities()\n",
        "\n",
        "# Display the retrieved data\n",
        "for entity in entities:\n",
        "    print(entity)\n"
      ]
    },
    {
      "cell_type": "code",
      "execution_count": null,
      "metadata": {
        "colab": {
          "base_uri": "https://localhost:8080/"
        },
        "id": "cvRAXzne4U61",
        "outputId": "31128a88-a0c4-4e55-92c5-de5f24905aad"
      },
      "outputs": [
        {
          "name": "stdout",
          "output_type": "stream",
          "text": [
            "Entité ajoutée avec succès à la table Azure.\n"
          ]
        }
      ],
      "source": [
        "from azure.data.tables import TableServiceClient\n",
        "from azure.core.credentials import AzureNamedKeyCredential\n",
        "\n",
        "# Remplacez les valeurs suivantes par vos informations Azure\n",
        "account_name = 'learningrba145'\n",
        "account_key = ''\n",
        "table_name = 'rba1'\n",
        "\n",
        "# Construire l'URL de point de terminaison\n",
        "endpoint = f\"https://{account_name}.table.core.windows.net/\"\n",
        "\n",
        "# Établir une connexion avec le service de table Azure\n",
        "credential = AzureNamedKeyCredential(account_name, account_key)\n",
        "table_service_client = TableServiceClient(endpoint=endpoint, credential=credential)\n",
        "\n",
        "# Obtenir une référence à votre table\n",
        "table_client = table_service_client.get_table_client(table_name)\n",
        "\n",
        "# Créer une nouvelle entité\n",
        "entity = {\n",
        "    'PartitionKey': '4',\n",
        "    'RowKey': '0',\n",
        "    'prenom': 'radhddddi',\n",
        "    # Ajoutez d'autres propriétés comme nécessaire\n",
        "}\n",
        "\n",
        "# Ajouter l'entité à la table\n",
        "table_client.create_entity(entity)\n",
        "\n",
        "print(\"Entité ajoutée avec succès à la table Azure.\")\n"
      ]
    },
    {
      "cell_type": "markdown",
      "metadata": {
        "id": "alMbLGQA6xLc"
      },
      "source": [
        "jointure"
      ]
    },
    {
      "cell_type": "code",
      "execution_count": null,
      "metadata": {
        "colab": {
          "base_uri": "https://localhost:8080/"
        },
        "id": "VcsD_f3R6zgi",
        "outputId": "5991b730-9027-49e2-bdca-36c644a834d7"
      },
      "outputs": [
        {
          "name": "stdout",
          "output_type": "stream",
          "text": [
            "Jointure trouvée pour la PartitionKey: 0\n",
            "debbabi houda\n",
            "Jointure trouvée pour la PartitionKey: 1\n",
            "benafia rayen\n",
            "Jointure trouvée pour la PartitionKey: 2\n",
            "radhi radhi\n",
            "Jointure trouvée pour la PartitionKey: 3\n",
            "rayen radhddi\n",
            "Jointure trouvée pour la PartitionKey: 4\n",
            "nnenen radhddddi\n"
          ]
        }
      ],
      "source": [
        "from azure.data.tables import TableServiceClient\n",
        "from azure.core.credentials import AzureNamedKeyCredential\n",
        "\n",
        "# Remplacez les valeurs suivantes par vos informations Azure\n",
        "account_name = 'learningrba145'\n",
        "account_key = ''\n",
        "table_name1 = 'rba'\n",
        "table_name2 = 'rba1'\n",
        "\n",
        "# Construire l'URL de point de terminaison\n",
        "endpoint = f\"https://{account_name}.table.core.windows.net/\"\n",
        "\n",
        "# Établir une connexion avec le service de table Azure\n",
        "credential = AzureNamedKeyCredential(account_name, account_key)\n",
        "table_service_client = TableServiceClient(endpoint=endpoint, credential=credential)\n",
        "\n",
        "# Obtenir une référence à vos tables\n",
        "table_client1 = table_service_client.get_table_client(table_name1)\n",
        "table_client2 = table_service_client.get_table_client(table_name2)\n",
        "\n",
        "# Récupérer les entités de chaque table\n",
        "entities_table1 = table_client1.list_entities()\n",
        "entities_table2 = table_client2.list_entities()\n",
        "\n",
        "# Créer des dictionnaires pour stocker les entités avec PartitionKey comme clé\n",
        "table1_dict = {entity['PartitionKey']: entity for entity in entities_table1}\n",
        "table2_dict = {entity['PartitionKey']: entity for entity in entities_table2}\n",
        "\n",
        "# Effectuer la jointure en fonction de la PartitionKey\n",
        "for partition_key, entity1 in table1_dict.items():\n",
        "    if partition_key in table2_dict:\n",
        "        entity2 = table2_dict[partition_key]\n",
        "        # Effectuer des opérations sur les entités jointes ici\n",
        "        print(\"Jointure trouvée pour la PartitionKey:\", partition_key)\n",
        "        print( entity1.get('nom'),entity2.get('prenom'))\n",
        "\n"
      ]
    },
    {
      "cell_type": "code",
      "execution_count": null,
      "metadata": {
        "colab": {
          "base_uri": "https://localhost:8080/"
        },
        "id": "IhR15Hsr8Vey",
        "outputId": "097d848b-b8e7-4b02-a10b-5ea5fa99454a"
      },
      "outputs": [
        {
          "name": "stdout",
          "output_type": "stream",
          "text": [
            "Mounted at /content/drive\n"
          ]
        }
      ],
      "source": [
        "from google.colab import drive\n",
        "\n",
        "# Montez votre Google Drive\n",
        "drive.mount('/content/drive')\n"
      ]
    },
    {
      "cell_type": "code",
      "execution_count": null,
      "metadata": {
        "colab": {
          "base_uri": "https://localhost:8080/"
        },
        "id": "ijpimy9V9EZK",
        "outputId": "7488634f-0ebd-4643-e613-1f74853e89ce"
      },
      "outputs": [
        {
          "name": "stdout",
          "output_type": "stream",
          "text": [
            "Requirement already satisfied: azure-storage-blob in /usr/local/lib/python3.10/dist-packages (12.19.1)\n",
            "Requirement already satisfied: azure-core<2.0.0,>=1.28.0 in /usr/local/lib/python3.10/dist-packages (from azure-storage-blob) (1.30.1)\n",
            "Requirement already satisfied: cryptography>=2.1.4 in /usr/local/lib/python3.10/dist-packages (from azure-storage-blob) (42.0.5)\n",
            "Requirement already satisfied: typing-extensions>=4.3.0 in /usr/local/lib/python3.10/dist-packages (from azure-storage-blob) (4.10.0)\n",
            "Requirement already satisfied: isodate>=0.6.1 in /usr/local/lib/python3.10/dist-packages (from azure-storage-blob) (0.6.1)\n",
            "Requirement already satisfied: requests>=2.21.0 in /usr/local/lib/python3.10/dist-packages (from azure-core<2.0.0,>=1.28.0->azure-storage-blob) (2.31.0)\n",
            "Requirement already satisfied: six>=1.11.0 in /usr/local/lib/python3.10/dist-packages (from azure-core<2.0.0,>=1.28.0->azure-storage-blob) (1.16.0)\n",
            "Requirement already satisfied: cffi>=1.12 in /usr/local/lib/python3.10/dist-packages (from cryptography>=2.1.4->azure-storage-blob) (1.16.0)\n",
            "Requirement already satisfied: pycparser in /usr/local/lib/python3.10/dist-packages (from cffi>=1.12->cryptography>=2.1.4->azure-storage-blob) (2.21)\n",
            "Requirement already satisfied: charset-normalizer<4,>=2 in /usr/local/lib/python3.10/dist-packages (from requests>=2.21.0->azure-core<2.0.0,>=1.28.0->azure-storage-blob) (3.3.2)\n",
            "Requirement already satisfied: idna<4,>=2.5 in /usr/local/lib/python3.10/dist-packages (from requests>=2.21.0->azure-core<2.0.0,>=1.28.0->azure-storage-blob) (3.6)\n",
            "Requirement already satisfied: urllib3<3,>=1.21.1 in /usr/local/lib/python3.10/dist-packages (from requests>=2.21.0->azure-core<2.0.0,>=1.28.0->azure-storage-blob) (2.0.7)\n",
            "Requirement already satisfied: certifi>=2017.4.17 in /usr/local/lib/python3.10/dist-packages (from requests>=2.21.0->azure-core<2.0.0,>=1.28.0->azure-storage-blob) (2024.2.2)\n"
          ]
        }
      ],
      "source": [
        "!pip install azure-storage-blob"
      ]
    },
    {
      "cell_type": "code",
      "execution_count": null,
      "metadata": {
        "colab": {
          "base_uri": "https://localhost:8080/"
        },
        "id": "-Or7fzQY86HZ",
        "outputId": "acd1561d-103f-477c-e5e4-9e5d01da1646"
      },
      "outputs": [
        {
          "name": "stdout",
          "output_type": "stream",
          "text": [
            "L'image a été téléchargée avec succès vers le conteneur blob Azure.\n"
          ]
        }
      ],
      "source": [
        "from azure.storage.blob import BlobServiceClient, BlobClient\n",
        "from google.colab import drive\n",
        "import os\n",
        "\n",
        "# Monter Google Drive\n",
        "\n",
        "\n",
        "# Chemin de l'image dans Google Drive\n",
        "image_path = '/content/drive/MyDrive/testimage.jpg'\n",
        "\n",
        "# Remplacez \"AZURE_STORAGE_CONNECTION_STRING\" par votre propre chaîne de connexion\n",
        "\n",
        "# Créer un client BlobService\n",
        "blob_service_client = BlobServiceClient.from_connection_string(connection_string)\n",
        "\n",
        "# Nom du conteneur Azure Blob Storage\n",
        "container_name = \"image\"\n",
        "\n",
        "# Nom de l'image à utiliser pour le blob dans le conteneur Azure Blob Storage\n",
        "blob_name = \"image.jpg\"\n",
        "\n",
        "# Envoyer l'image vers le conteneur blob Azure\n",
        "blob_client = blob_service_client.get_blob_client(container=container_name, blob=blob_name)\n",
        "\n",
        "with open(image_path, \"rb\") as data:\n",
        "    blob_client.upload_blob(data)\n",
        "\n",
        "print(\"L'image a été téléchargée avec succès vers le conteneur blob Azure.\")\n"
      ]
    }
  ],
  "metadata": {
    "colab": {
      "provenance": []
    },
    "kernelspec": {
      "display_name": "Python 3",
      "name": "python3"
    },
    "language_info": {
      "name": "python"
    }
  },
  "nbformat": 4,
  "nbformat_minor": 0
}
